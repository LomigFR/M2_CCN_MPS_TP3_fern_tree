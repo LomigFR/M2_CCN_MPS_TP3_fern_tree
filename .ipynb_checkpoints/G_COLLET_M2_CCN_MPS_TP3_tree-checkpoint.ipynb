{
 "cells": [
  {
   "cell_type": "code",
   "execution_count": null,
   "metadata": {},
   "outputs": [
    {
     "data": {
      "application/vnd.jupyter.widget-view+json": {
       "model_id": "20749a79e9ae4342b26581d5977b2902",
       "version_major": 2,
       "version_minor": 0
      },
      "text/plain": [
       "Turtle()"
      ]
     },
     "metadata": {},
     "output_type": "display_data"
    }
   ],
   "source": [
    "# Par souci de simplicification, le code ici, ne s'appuie que sur la librairie \n",
    "# fournie dans le cadre du TP (mobilechelonian).\n",
    "\n",
    "# # Remarque. Le code de ce script s'appuie sur la méthode createTree() de la classe Tree disponible\n",
    "# dans le fichier Arbre.py. Ainsi, le choix a été fait de déporter le code à exécuter dans cette classe. \n",
    "\n",
    "from mobilechelonian import Turtle\n",
    "from Arbre import Tree\n",
    "\n",
    "t = Turtle()\n",
    "t.speed(10)\n",
    "tree = Tree(t)\n",
    "tree.createTree(150)"
   ]
  },
  {
   "cell_type": "code",
   "execution_count": null,
   "metadata": {},
   "outputs": [],
   "source": []
  }
 ],
 "metadata": {
  "kernelspec": {
   "display_name": "Python 3",
   "language": "python",
   "name": "python3"
  },
  "language_info": {
   "codemirror_mode": {
    "name": "ipython",
    "version": 3
   },
   "file_extension": ".py",
   "mimetype": "text/x-python",
   "name": "python",
   "nbconvert_exporter": "python",
   "pygments_lexer": "ipython3",
   "version": "3.7.4"
  }
 },
 "nbformat": 4,
 "nbformat_minor": 2
}
